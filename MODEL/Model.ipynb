{
 "cells": [
  {
   "cell_type": "code",
   "execution_count": 91,
   "id": "9040bec5-863b-4292-8cfc-e8e487f929d9",
   "metadata": {},
   "outputs": [],
   "source": [
    "import pandas as pd\n",
    "from sklearn.model_selection import train_test_split"
   ]
  },
  {
   "cell_type": "code",
   "execution_count": 92,
   "id": "bb48507b-8314-4d65-a71b-0ad3d886ca6f",
   "metadata": {},
   "outputs": [],
   "source": [
    "df = pd.read_csv('dataset.csv')"
   ]
  },
  {
   "cell_type": "code",
   "execution_count": 93,
   "id": "5ee909be-182d-4a09-991e-e75ec4ba44c5",
   "metadata": {},
   "outputs": [
    {
     "data": {
      "text/html": [
       "<div>\n",
       "<style scoped>\n",
       "    .dataframe tbody tr th:only-of-type {\n",
       "        vertical-align: middle;\n",
       "    }\n",
       "\n",
       "    .dataframe tbody tr th {\n",
       "        vertical-align: top;\n",
       "    }\n",
       "\n",
       "    .dataframe thead th {\n",
       "        text-align: right;\n",
       "    }\n",
       "</style>\n",
       "<table border=\"1\" class=\"dataframe\">\n",
       "  <thead>\n",
       "    <tr style=\"text-align: right;\">\n",
       "      <th></th>\n",
       "      <th>length_url</th>\n",
       "      <th>length_hostname</th>\n",
       "      <th>ip</th>\n",
       "      <th>nb_dots</th>\n",
       "      <th>nb_hyphens</th>\n",
       "      <th>nb_at</th>\n",
       "      <th>nb_qm</th>\n",
       "      <th>nb_and</th>\n",
       "      <th>nb_or</th>\n",
       "      <th>nb_eq</th>\n",
       "      <th>...</th>\n",
       "      <th>domain_in_title</th>\n",
       "      <th>domain_with_copyright</th>\n",
       "      <th>whois_registered_domain</th>\n",
       "      <th>domain_registration_length</th>\n",
       "      <th>domain_age</th>\n",
       "      <th>web_traffic</th>\n",
       "      <th>dns_record</th>\n",
       "      <th>google_index</th>\n",
       "      <th>page_rank</th>\n",
       "      <th>status</th>\n",
       "    </tr>\n",
       "  </thead>\n",
       "  <tbody>\n",
       "    <tr>\n",
       "      <th>0</th>\n",
       "      <td>115</td>\n",
       "      <td>23</td>\n",
       "      <td>0</td>\n",
       "      <td>2</td>\n",
       "      <td>8</td>\n",
       "      <td>0</td>\n",
       "      <td>0</td>\n",
       "      <td>0</td>\n",
       "      <td>0</td>\n",
       "      <td>0</td>\n",
       "      <td>...</td>\n",
       "      <td>1</td>\n",
       "      <td>0</td>\n",
       "      <td>0</td>\n",
       "      <td>586</td>\n",
       "      <td>7448</td>\n",
       "      <td>3945616</td>\n",
       "      <td>0</td>\n",
       "      <td>0</td>\n",
       "      <td>8</td>\n",
       "      <td>safe</td>\n",
       "    </tr>\n",
       "    <tr>\n",
       "      <th>1</th>\n",
       "      <td>20</td>\n",
       "      <td>12</td>\n",
       "      <td>0</td>\n",
       "      <td>2</td>\n",
       "      <td>0</td>\n",
       "      <td>0</td>\n",
       "      <td>0</td>\n",
       "      <td>0</td>\n",
       "      <td>0</td>\n",
       "      <td>0</td>\n",
       "      <td>...</td>\n",
       "      <td>1</td>\n",
       "      <td>1</td>\n",
       "      <td>0</td>\n",
       "      <td>100</td>\n",
       "      <td>8311</td>\n",
       "      <td>260730</td>\n",
       "      <td>0</td>\n",
       "      <td>0</td>\n",
       "      <td>4</td>\n",
       "      <td>safe</td>\n",
       "    </tr>\n",
       "    <tr>\n",
       "      <th>2</th>\n",
       "      <td>35</td>\n",
       "      <td>27</td>\n",
       "      <td>0</td>\n",
       "      <td>1</td>\n",
       "      <td>3</td>\n",
       "      <td>0</td>\n",
       "      <td>0</td>\n",
       "      <td>0</td>\n",
       "      <td>0</td>\n",
       "      <td>0</td>\n",
       "      <td>...</td>\n",
       "      <td>1</td>\n",
       "      <td>0</td>\n",
       "      <td>0</td>\n",
       "      <td>290</td>\n",
       "      <td>74</td>\n",
       "      <td>0</td>\n",
       "      <td>0</td>\n",
       "      <td>1</td>\n",
       "      <td>0</td>\n",
       "      <td>unsafe</td>\n",
       "    </tr>\n",
       "    <tr>\n",
       "      <th>3</th>\n",
       "      <td>59</td>\n",
       "      <td>18</td>\n",
       "      <td>0</td>\n",
       "      <td>2</td>\n",
       "      <td>0</td>\n",
       "      <td>0</td>\n",
       "      <td>0</td>\n",
       "      <td>0</td>\n",
       "      <td>0</td>\n",
       "      <td>0</td>\n",
       "      <td>...</td>\n",
       "      <td>1</td>\n",
       "      <td>1</td>\n",
       "      <td>0</td>\n",
       "      <td>1097</td>\n",
       "      <td>2554</td>\n",
       "      <td>0</td>\n",
       "      <td>0</td>\n",
       "      <td>1</td>\n",
       "      <td>1</td>\n",
       "      <td>unsafe</td>\n",
       "    </tr>\n",
       "    <tr>\n",
       "      <th>4</th>\n",
       "      <td>70</td>\n",
       "      <td>23</td>\n",
       "      <td>0</td>\n",
       "      <td>2</td>\n",
       "      <td>1</td>\n",
       "      <td>0</td>\n",
       "      <td>0</td>\n",
       "      <td>0</td>\n",
       "      <td>0</td>\n",
       "      <td>0</td>\n",
       "      <td>...</td>\n",
       "      <td>1</td>\n",
       "      <td>1</td>\n",
       "      <td>0</td>\n",
       "      <td>318</td>\n",
       "      <td>778</td>\n",
       "      <td>0</td>\n",
       "      <td>0</td>\n",
       "      <td>1</td>\n",
       "      <td>0</td>\n",
       "      <td>unsafe</td>\n",
       "    </tr>\n",
       "  </tbody>\n",
       "</table>\n",
       "<p>5 rows × 88 columns</p>\n",
       "</div>"
      ],
      "text/plain": [
       "   length_url  length_hostname  ip  nb_dots  nb_hyphens  nb_at  nb_qm  nb_and  \\\n",
       "0         115               23   0        2           8      0      0       0   \n",
       "1          20               12   0        2           0      0      0       0   \n",
       "2          35               27   0        1           3      0      0       0   \n",
       "3          59               18   0        2           0      0      0       0   \n",
       "4          70               23   0        2           1      0      0       0   \n",
       "\n",
       "   nb_or  nb_eq  ...  domain_in_title  domain_with_copyright  \\\n",
       "0      0      0  ...                1                      0   \n",
       "1      0      0  ...                1                      1   \n",
       "2      0      0  ...                1                      0   \n",
       "3      0      0  ...                1                      1   \n",
       "4      0      0  ...                1                      1   \n",
       "\n",
       "   whois_registered_domain  domain_registration_length  domain_age  \\\n",
       "0                        0                         586        7448   \n",
       "1                        0                         100        8311   \n",
       "2                        0                         290          74   \n",
       "3                        0                        1097        2554   \n",
       "4                        0                         318         778   \n",
       "\n",
       "   web_traffic  dns_record  google_index  page_rank  status  \n",
       "0      3945616           0             0          8    safe  \n",
       "1       260730           0             0          4    safe  \n",
       "2            0           0             1          0  unsafe  \n",
       "3            0           0             1          1  unsafe  \n",
       "4            0           0             1          0  unsafe  \n",
       "\n",
       "[5 rows x 88 columns]"
      ]
     },
     "execution_count": 93,
     "metadata": {},
     "output_type": "execute_result"
    }
   ],
   "source": [
    "df.head()"
   ]
  },
  {
   "cell_type": "code",
   "execution_count": 94,
   "id": "7548ac63-a12d-4fad-8041-bd60ea473d6a",
   "metadata": {},
   "outputs": [],
   "source": [
    "x = df.drop([\"status\"] ,axis=1)"
   ]
  },
  {
   "cell_type": "code",
   "execution_count": 95,
   "id": "e750b81e-5b66-46ba-9ed8-0ca22811e62b",
   "metadata": {},
   "outputs": [],
   "source": [
    "df[\"status\"] =  df[\"status\"].replace('unsafe','0' ,regex=True)\n",
    "df[\"status\"] =  df[\"status\"].replace('safe','1' ,regex=True)\n"
   ]
  },
  {
   "cell_type": "code",
   "execution_count": 96,
   "id": "ca262f12-6c95-4dc5-8765-a65a9b73dfc6",
   "metadata": {},
   "outputs": [],
   "source": [
    "y = df[\"status\"]"
   ]
  },
  {
   "cell_type": "code",
   "execution_count": 97,
   "id": "5966e7ce-9ce0-41c7-bcb0-8967559bce54",
   "metadata": {},
   "outputs": [],
   "source": [
    "xtrain,xtest,ytrain,ytest = train_test_split(x, y , test_size =0.2)"
   ]
  },
  {
   "cell_type": "code",
   "execution_count": 75,
   "id": "dc7c7514-5533-4d1e-84eb-4c9820915d2f",
   "metadata": {},
   "outputs": [
    {
     "name": "stdout",
     "output_type": "stream",
     "text": [
      "2742 2742 686 686\n"
     ]
    }
   ],
   "source": [
    "print(len(xtrain) ,len(ytrain), len(xtest) ,len(ytest))"
   ]
  },
  {
   "cell_type": "code",
   "execution_count": 98,
   "id": "91b0b1ff-8ccf-499f-a6b7-bf78e04ef0d3",
   "metadata": {},
   "outputs": [
    {
     "name": "stdout",
     "output_type": "stream",
     "text": [
      "Traning =  99.86425982340627\n",
      "Testing =  80.80439307289873\n"
     ]
    }
   ],
   "source": [
    "from xgboost import XGBRegressor\n",
    "model = XGBRegressor()\n",
    "model.fit(xtrain,ytrain)\n",
    "model.predict(xtest)\n",
    "print(\"Traning = \",model.score(xtrain,ytrain)*100)\n",
    "print(\"Testing = \",model.score(xtest,ytest)*100)"
   ]
  },
  {
   "cell_type": "code",
   "execution_count": 103,
   "id": "00c15440-af64-4f79-bb90-ddfe83797374",
   "metadata": {},
   "outputs": [
    {
     "data": {
      "text/plain": [
       "array([-1.5888058e-03,  4.4142295e-02, -3.0710683e-03, ...,\n",
       "        1.0074934e+00,  4.0795538e-04,  1.0058374e+00], dtype=float32)"
      ]
     },
     "execution_count": 103,
     "metadata": {},
     "output_type": "execute_result"
    }
   ],
   "source": [
    "model.predict(xtrain)"
   ]
  },
  {
   "cell_type": "code",
   "execution_count": 104,
   "id": "06a0d831-1ae5-4782-bde8-fee632da5f23",
   "metadata": {},
   "outputs": [],
   "source": [
    "import joblib "
   ]
  },
  {
   "cell_type": "code",
   "execution_count": 106,
   "id": "c40bf97a-0eaa-49bc-8bb9-c9ae86540c29",
   "metadata": {},
   "outputs": [
    {
     "data": {
      "text/plain": [
       "['model.pkl']"
      ]
     },
     "execution_count": 106,
     "metadata": {},
     "output_type": "execute_result"
    }
   ],
   "source": [
    "joblib.dump(model, \"model.pkl\")"
   ]
  }
 ],
 "metadata": {
  "kernelspec": {
   "display_name": "Python 3 (ipykernel)",
   "language": "python",
   "name": "python3"
  },
  "language_info": {
   "codemirror_mode": {
    "name": "ipython",
    "version": 3
   },
   "file_extension": ".py",
   "mimetype": "text/x-python",
   "name": "python",
   "nbconvert_exporter": "python",
   "pygments_lexer": "ipython3",
   "version": "3.11.5"
  }
 },
 "nbformat": 4,
 "nbformat_minor": 5
}
